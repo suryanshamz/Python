{
 "cells": [
  {
   "cell_type": "code",
   "execution_count": null,
   "id": "deab2e54",
   "metadata": {},
   "outputs": [],
   "source": [
    "pip install geocoder"
   ]
  },
  {
   "cell_type": "code",
   "execution_count": 9,
   "id": "06fabeb7",
   "metadata": {},
   "outputs": [],
   "source": [
    "import geocoder"
   ]
  },
  {
   "cell_type": "code",
   "execution_count": 11,
   "id": "c6be6392",
   "metadata": {},
   "outputs": [
    {
     "name": "stdout",
     "output_type": "stream",
     "text": [
      "Latitude: 26.8393, Longitude: 80.9231\n"
     ]
    }
   ],
   "source": [
    "def location():\n",
    "    g = geocoder.ip(\"me\")\n",
    "    lat, lng = g.latlng\n",
    "    return lat, lng\n",
    "latitute, longitude = location()\n",
    "print(f\"Latitude: {latitude}, Longitude: {longitude}\")"
   ]
  },
  {
   "cell_type": "code",
   "execution_count": null,
   "id": "a6328c28",
   "metadata": {},
   "outputs": [],
   "source": []
  }
 ],
 "metadata": {
  "kernelspec": {
   "display_name": "Python 3 (ipykernel)",
   "language": "python",
   "name": "python3"
  },
  "language_info": {
   "codemirror_mode": {
    "name": "ipython",
    "version": 3
   },
   "file_extension": ".py",
   "mimetype": "text/x-python",
   "name": "python",
   "nbconvert_exporter": "python",
   "pygments_lexer": "ipython3",
   "version": "3.11.4"
  }
 },
 "nbformat": 4,
 "nbformat_minor": 5
}
